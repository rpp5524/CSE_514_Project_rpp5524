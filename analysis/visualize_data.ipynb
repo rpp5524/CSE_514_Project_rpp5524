{
 "cells": [
  {
   "cell_type": "code",
   "execution_count": null,
   "metadata": {},
   "outputs": [
    {
     "ename": "",
     "evalue": "",
     "output_type": "error",
     "traceback": [
      "\u001b[1;31mRunning cells with 'Python 3.13.0' requires the ipykernel package.\n",
      "\u001b[1;31mRun the following command to install 'ipykernel' into the Python environment. \n",
      "\u001b[1;31mCommand: '/opt/homebrew/bin/python3 -m pip install ipykernel -U --user --force-reinstall'"
     ]
    }
   ],
   "source": [
    "import pandas as pd\n",
    "import matplotlib.pyplot as plt\n",
    "\n",
    "# Load results from the CSV file\n",
    "results_df = pd.read_csv(\"../routing_data/routing_algorithm_results_test.csv\")\n",
    "\n",
    "# Define metrics to plot\n",
    "METRICS = [\"Latency (ms)\", \"Throughput (Mbps)\", \"Routing Overhead (packets)\", \"Network Utilization (%)\"]\n",
    "\n",
    "# Plot graphs for all topologies and metrics\n",
    "def plot_metrics_for_topologies(dataframe):\n",
    "    topologies = dataframe['Topology'].unique()\n",
    "    algorithms = dataframe['Algorithm'].unique()\n",
    "    \n",
    "    for topology in topologies:\n",
    "        print(f\"Plotting for topology: {topology}\")\n",
    "        topology_data = dataframe[dataframe['Topology'] == topology]\n",
    "        \n",
    "        for metric in METRICS:\n",
    "            plt.figure(figsize=(10, 6))\n",
    "            for algorithm in algorithms:\n",
    "                algo_data = topology_data[topology_data['Algorithm'] == algorithm]\n",
    "                plt.plot(algo_data[\"Number of Nodes\"], algo_data[metric], label=algorithm, marker='o')\n",
    "\n",
    "            # Plot settings\n",
    "            plt.title(f\"{metric} Comparison for {topology.capitalize()} Topology\")\n",
    "            plt.xlabel(\"Number of Nodes\")\n",
    "            plt.ylabel(metric)\n",
    "            plt.legend()\n",
    "            plt.grid(True)\n",
    "            plt.tight_layout()\n",
    "\n",
    "            # Save the plot or show it\n",
    "            plt.savefig(f\"{topology}_{metric.replace(' ', '_').replace('(', '').replace(')', '')}.png\")\n",
    "            plt.show()\n",
    "\n",
    "# Call the function to generate plots\n",
    "plot_metrics_for_topologies(results_df)\n"
   ]
  },
  {
   "cell_type": "code",
   "execution_count": null,
   "metadata": {},
   "outputs": [],
   "source": []
  }
 ],
 "metadata": {
  "kernelspec": {
   "display_name": "Python 3",
   "language": "python",
   "name": "python3"
  },
  "language_info": {
   "name": "python",
   "version": "3.13.0"
  }
 },
 "nbformat": 4,
 "nbformat_minor": 2
}
